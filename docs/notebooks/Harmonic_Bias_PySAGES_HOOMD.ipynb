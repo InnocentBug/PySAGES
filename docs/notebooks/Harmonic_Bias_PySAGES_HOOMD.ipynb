{
  "cells": [
    {
      "cell_type": "markdown",
      "metadata": {
        "id": "view-in-github",
        "colab_type": "text"
      },
      "source": [
        "<a href=\"https://colab.research.google.com/github/InnocentBug/PySAGES/blob/google-colab/Harmonic_Bias_PySAGES_HOOMD.ipynb\" target=\"_parent\"><img src=\"https://colab.research.google.com/assets/colab-badge.svg\" alt=\"Open In Colab\"/></a>"
      ]
    },
    {
      "cell_type": "markdown",
      "metadata": {
        "id": "p49wJ0IjLAVD"
      },
      "source": [
        "\n",
        "# Setup of the environment"
      ]
    },
    {
      "cell_type": "markdown",
      "metadata": {
        "id": "WM_9PpDwKuoA"
      },
      "source": [
        "First we are setting up our environment. We use an already compiled and packaged installation of HOOMD-blue and the DLEXT plugin. We copy it from google drive and install pysages for it. This may require for you to have read permissions to the shared google drive. We also have a google collab that performs this installation for reference.\n"
      ]
    },
    {
      "cell_type": "code",
      "source": [
        "%%bash\n",
        "\n",
        "BASE_URL=\"https://drive.google.com/u/0/uc?id=1hsKkKtdxZTVfHKgqVF6qV2e-4SShmhr7&export=download\"\n",
        "wget -q --load-cookies /tmp/cookies.txt \"$BASE_URL&confirm=$(wget -q --save-cookies /tmp/cookies.txt --keep-session-cookies --no-check-certificate $BASE_URL)\"\n",
        "\n",
        "wget --load-cookies /tmp/cookies.txt \"https://docs.google.com/uc?export=download&confirm=$(wget --quiet --save-cookies /tmp/cookies.txt --keep-session-cookies --no-check-certificate 'https://docs.google.com/uc?export=download&id=1hsKkKtdxZTVfHKgqVF6qV2e-4SShmhr7' -O- | sed -rn 's/.*confirm=([0-9A-Za-z_]+).*/\\1\\n/p')&id=1hsKkKtdxZTVfHKgqVF6qV2e-4SShmhr7\" -O pysages-env.zip &>/dev/null\n",
        "rm -rf /tmp/cookies.txt"
      ],
      "metadata": {
        "id": "nMThqa-DjVcb",
        "colab": {
          "base_uri": "https://localhost:8080/"
        },
        "outputId": "3b8788b7-0c32-4ee7-bab8-d361c37d8ad4"
      },
      "execution_count": 19,
      "outputs": [
        {
          "output_type": "stream",
          "name": "stderr",
          "text": [
            "--2022-01-26 18:50:15--  https://docs.google.com/uc?export=download&confirm=&id=1hsKkKtdxZTVfHKgqVF6qV2e-4SShmhr7\n",
            "Resolving docs.google.com (docs.google.com)... 142.250.159.113, 142.250.159.102, 142.250.159.100, ...\n",
            "Connecting to docs.google.com (docs.google.com)|142.250.159.113|:443... connected.\n",
            "HTTP request sent, awaiting response... 302 Moved Temporarily\n",
            "Location: https://doc-0k-c8-docs.googleusercontent.com/docs/securesc/ihnkubd5r634ubn49m3q673km1gbi42l/e8ppulib9e9h208gpou8o1f3il2gvvis/1643223000000/05474853059818740468/05858196956042685076Z/1hsKkKtdxZTVfHKgqVF6qV2e-4SShmhr7?e=download [following]\n",
            "--2022-01-26 18:50:15--  https://doc-0k-c8-docs.googleusercontent.com/docs/securesc/ihnkubd5r634ubn49m3q673km1gbi42l/e8ppulib9e9h208gpou8o1f3il2gvvis/1643223000000/05474853059818740468/05858196956042685076Z/1hsKkKtdxZTVfHKgqVF6qV2e-4SShmhr7?e=download\n",
            "Resolving doc-0k-c8-docs.googleusercontent.com (doc-0k-c8-docs.googleusercontent.com)... 74.125.124.132, 2607:f8b0:4001:c14::84\n",
            "Connecting to doc-0k-c8-docs.googleusercontent.com (doc-0k-c8-docs.googleusercontent.com)|74.125.124.132|:443... connected.\n",
            "HTTP request sent, awaiting response... 302 Found\n",
            "Location: https://docs.google.com/nonceSigner?nonce=p9b0p2em2v8p6&continue=https://doc-0k-c8-docs.googleusercontent.com/docs/securesc/ihnkubd5r634ubn49m3q673km1gbi42l/e8ppulib9e9h208gpou8o1f3il2gvvis/1643223000000/05474853059818740468/05858196956042685076Z/1hsKkKtdxZTVfHKgqVF6qV2e-4SShmhr7?e%3Ddownload&hash=2u41i6p36luscp8rlj3e75dh07ss78k3 [following]\n",
            "--2022-01-26 18:50:15--  https://docs.google.com/nonceSigner?nonce=p9b0p2em2v8p6&continue=https://doc-0k-c8-docs.googleusercontent.com/docs/securesc/ihnkubd5r634ubn49m3q673km1gbi42l/e8ppulib9e9h208gpou8o1f3il2gvvis/1643223000000/05474853059818740468/05858196956042685076Z/1hsKkKtdxZTVfHKgqVF6qV2e-4SShmhr7?e%3Ddownload&hash=2u41i6p36luscp8rlj3e75dh07ss78k3\n",
            "Connecting to docs.google.com (docs.google.com)|142.250.159.113|:443... connected.\n",
            "HTTP request sent, awaiting response... 302 Found\n",
            "Location: https://doc-0k-c8-docs.googleusercontent.com/docs/securesc/ihnkubd5r634ubn49m3q673km1gbi42l/e8ppulib9e9h208gpou8o1f3il2gvvis/1643223000000/05474853059818740468/05858196956042685076Z/1hsKkKtdxZTVfHKgqVF6qV2e-4SShmhr7?e=download&nonce=p9b0p2em2v8p6&user=05858196956042685076Z&hash=6g3j7tijsousb3h9kf2h34n12m54kltf [following]\n",
            "--2022-01-26 18:50:15--  https://doc-0k-c8-docs.googleusercontent.com/docs/securesc/ihnkubd5r634ubn49m3q673km1gbi42l/e8ppulib9e9h208gpou8o1f3il2gvvis/1643223000000/05474853059818740468/05858196956042685076Z/1hsKkKtdxZTVfHKgqVF6qV2e-4SShmhr7?e=download&nonce=p9b0p2em2v8p6&user=05858196956042685076Z&hash=6g3j7tijsousb3h9kf2h34n12m54kltf\n",
            "Connecting to doc-0k-c8-docs.googleusercontent.com (doc-0k-c8-docs.googleusercontent.com)|74.125.124.132|:443... connected.\n",
            "HTTP request sent, awaiting response... 200 OK\n",
            "Length: 498 [application/zip]\n",
            "Saving to: ‘pysages-env.zip’\n",
            "\n",
            "     0K                                                       100% 33.1M=0s\n",
            "\n",
            "2022-01-26 18:50:15 (33.1 MB/s) - ‘pysages-env.zip’ saved [498/498]\n",
            "\n"
          ]
        }
      ]
    },
    {
      "cell_type": "code",
      "source": [
        "%env PYSAGES_ENV=/env/pysages"
      ],
      "metadata": {
        "colab": {
          "base_uri": "https://localhost:8080/"
        },
        "id": "25H3kl03wzJe",
        "outputId": "497e1160-f6b3-4294-b2db-99e1584e034f"
      },
      "execution_count": 7,
      "outputs": [
        {
          "output_type": "stream",
          "name": "stdout",
          "text": [
            "env: PYSAGES_ENV=/env/pysages\n"
          ]
        }
      ]
    },
    {
      "cell_type": "code",
      "source": [
        "%%bash\n",
        "\n",
        "mkdir -p $PYSAGES_ENV\n",
        "unzip -qquo pysages-env.zip -d $PYSAGES_ENV\n",
        "rm pysages-env.zip"
      ],
      "metadata": {
        "id": "CPkgxfj6w4te"
      },
      "execution_count": 21,
      "outputs": []
    },
    {
      "cell_type": "code",
      "source": [
        "import os\n",
        "import sys\n",
        "\n",
        "ver = sys.version_info\n",
        "\n",
        "sys.path.append(os.environ[\"PYSAGES_ENV\"] + \"/lib/python\" + str(ver.major) + \".\" + str(ver.minor) + \"/site-packages/\")"
      ],
      "metadata": {
        "id": "JMO5fiRTxAWB"
      },
      "execution_count": 10,
      "outputs": []
    },
    {
      "cell_type": "markdown",
      "metadata": {
        "id": "lf2KeHt5_eFv"
      },
      "source": [
        "## PySAGES\n",
        "\n",
        "The next step is to install PySAGES.\n",
        "First, we install the jaxlib version that matches the CUDA installation of this collab setup. See the jax documentation [here](https://github.com/google/jax) for more details."
      ]
    },
    {
      "cell_type": "code",
      "execution_count": 11,
      "metadata": {
        "id": "R_gW2ERpi9tw",
        "colab": {
          "base_uri": "https://localhost:8080/"
        },
        "outputId": "55b28fd6-9b04-4c15-ae70-1f5c35000bc8"
      },
      "outputs": [
        {
          "output_type": "stream",
          "name": "stderr",
          "text": [
            "WARNING: Running pip as the 'root' user can result in broken permissions and conflicting behaviour with the system package manager. It is recommended to use a virtual environment instead: https://pip.pypa.io/warnings/venv\n"
          ]
        }
      ],
      "source": [
        "%%bash\n",
        "\n",
        "pip install -q --upgrade pip\n",
        "# Installs the wheel compatible with CUDA 11 and cuDNN 8.2 or newer.\n",
        "pip install -q --upgrade \"jax[cuda]\" -f https://storage.googleapis.com/jax-releases/jax_releases.html &> /dev/null"
      ]
    },
    {
      "cell_type": "markdown",
      "metadata": {
        "id": "mx0IRythaTyG"
      },
      "source": [
        "We test the jax installation and check the versions."
      ]
    },
    {
      "cell_type": "code",
      "execution_count": 12,
      "metadata": {
        "id": "Z4E914qBHbZS",
        "colab": {
          "base_uri": "https://localhost:8080/"
        },
        "outputId": "724594c8-663e-48a3-c0bc-dbc43aa5ec4b"
      },
      "outputs": [
        {
          "output_type": "stream",
          "name": "stdout",
          "text": [
            "0.2.27\n",
            "0.1.75\n"
          ]
        }
      ],
      "source": [
        "import jax\n",
        "import jaxlib\n",
        "print(jax.__version__)\n",
        "print(jaxlib.__version__)"
      ]
    },
    {
      "cell_type": "markdown",
      "metadata": {
        "id": "vtAmA51IAYxn"
      },
      "source": [
        "Now we can finally install PySAGES. We clone the newest version from [here](https://github.com/SSAGESLabs/PySAGES) and build the remaining pure python dependencies and PySAGES itself."
      ]
    },
    {
      "cell_type": "code",
      "execution_count": 13,
      "metadata": {
        "id": "xYRGOcFJjEE6"
      },
      "outputs": [],
      "source": [
        "%%bash\n",
        "\n",
        "rm -rf PySAGES\n",
        "git clone https://github.com/SSAGESLabs/PySAGES.git &> /dev/null\n",
        "cd PySAGES\n",
        "pip install -q . &> /dev/null"
      ]
    },
    {
      "cell_type": "markdown",
      "metadata": {
        "id": "fRZDARPsDQHF"
      },
      "source": [
        "# Harmonic Bias simulation"
      ]
    },
    {
      "cell_type": "markdown",
      "metadata": {
        "id": "Uh2y2RXDDZub"
      },
      "source": [
        "A harmonic bias simulation constraints a collective variable with a harmonic potential. This is useful for a variety of advanced sampling methods, in particular that umbrella sampling.\n",
        "\n",
        "For this collab we are generating a small system of soft DPD particles first. This system of soft particles allows fast reliable execution.\n",
        "For this we use the [GSD](https://gsd.readthedocs.io/en/stable/) file format and its python frontend to generate the initial conditions.\n",
        "Since all particles are soft, it is OK to start with random positions inside the simulation box. We also assign random velocities drawn from the Maxwell-Boltzmann distribution. The final configuration is written to disk and can be opened by HOOMD-blue for simulations."
      ]
    },
    {
      "cell_type": "code",
      "execution_count": 14,
      "metadata": {
        "id": "aIP9vx8yDdr1"
      },
      "outputs": [],
      "source": [
        "!pip install -q gsd &> /dev/null\n",
        "\n",
        "import sys\n",
        "import numpy as np\n",
        "import gsd\n",
        "import gsd.hoomd\n",
        "\n",
        "\n",
        "class System:\n",
        "    def __init__(self):\n",
        "        self.L = 5\n",
        "        self.N = 200\n",
        "\n",
        "\n",
        "def post_process_pos(snapshot):\n",
        "    box_size = snapshot.configuration.box[:3]\n",
        "    snapshot.particles.image = np.rint(snapshot.particles.position / box_size)\n",
        "    snapshot.particles.position -= snapshot.particles.image * box_size\n",
        "    return snapshot\n",
        "\n",
        "\n",
        "def get_snap(system):\n",
        "    L = system.L\n",
        "    snapshot = gsd.hoomd.Snapshot()\n",
        "    snapshot.configuration.box = [L, L, L, 0, 0, 0]\n",
        "\n",
        "    snapshot.particles.N = N = system.N\n",
        "\n",
        "    snapshot.particles.types = [\"A\"]\n",
        "    snapshot.particles.position = np.zeros((N, 3))\n",
        "    snapshot.particles.velocity = np.random.standard_normal((N, 3))\n",
        "    snapshot.particles.image = np.zeros((N, 3), dtype=int)\n",
        "    snapshot.particles.typeid = np.zeros(N, dtype=int)\n",
        "\n",
        "    rng = np.random.default_rng()\n",
        "    for particle in range(N):\n",
        "        snapshot.particles.position[particle, 0] = (rng.random() * L - L / 2)\n",
        "        snapshot.particles.position[particle, 1] = (rng.random() * L - L / 2)\n",
        "        snapshot.particles.position[particle, 2] = (rng.random() * L - L / 2)\n",
        "\n",
        "    return snapshot\n",
        "\n",
        "system = System()\n",
        "snap = get_snap(system)\n",
        "snap = post_process_pos(snap)\n",
        "snap.particles.validate()\n",
        "with gsd.hoomd.open(\"harmonic_start.gsd\", \"wb\") as f:\n",
        "   f.append(snap)\n"
      ]
    },
    {
      "cell_type": "markdown",
      "source": [
        "Next we start into running the system, we start with importing the required libraries.\n",
        "Noteworthy are here the hoomd package with the MD and dlext module, and the pysages objects.\n",
        "We are going to use a collective variable that constraints a particle position. In PySAGES the `Component` class from the `collective_variables` package can achieve this for us.\n",
        "The `HarmonicBias` class is responsible for introducing the bias into the simulation run, while `HistogramLogger` collects the state of the collective variable during the run."
      ],
      "metadata": {
        "id": "n0Rd-hMnCD-B"
      }
    },
    {
      "cell_type": "code",
      "execution_count": 15,
      "metadata": {
        "id": "HkHOzXMzExps",
        "colab": {
          "base_uri": "https://localhost:8080/",
          "height": 377
        },
        "outputId": "a9c7cd8b-a5d0-4ab6-f706-5e9ace7ad82a"
      },
      "outputs": [
        {
          "output_type": "error",
          "ename": "ModuleNotFoundError",
          "evalue": "ignored",
          "traceback": [
            "\u001b[0;31m---------------------------------------------------------------------------\u001b[0m",
            "\u001b[0;31mModuleNotFoundError\u001b[0m                       Traceback (most recent call last)",
            "\u001b[0;32m<ipython-input-15-ea5209c6f229>\u001b[0m in \u001b[0;36m<module>\u001b[0;34m()\u001b[0m\n\u001b[1;32m      1\u001b[0m \u001b[0;32mimport\u001b[0m \u001b[0mnumpy\u001b[0m \u001b[0;32mas\u001b[0m \u001b[0mnp\u001b[0m\u001b[0;34m\u001b[0m\u001b[0;34m\u001b[0m\u001b[0m\n\u001b[1;32m      2\u001b[0m \u001b[0;32mimport\u001b[0m \u001b[0mmatplotlib\u001b[0m\u001b[0;34m.\u001b[0m\u001b[0mpyplot\u001b[0m \u001b[0;32mas\u001b[0m \u001b[0mplt\u001b[0m\u001b[0;34m\u001b[0m\u001b[0;34m\u001b[0m\u001b[0m\n\u001b[0;32m----> 3\u001b[0;31m \u001b[0;32mimport\u001b[0m \u001b[0mhoomd\u001b[0m\u001b[0;34m\u001b[0m\u001b[0;34m\u001b[0m\u001b[0m\n\u001b[0m\u001b[1;32m      4\u001b[0m \u001b[0;32mimport\u001b[0m \u001b[0mhoomd\u001b[0m\u001b[0;34m.\u001b[0m\u001b[0mmd\u001b[0m\u001b[0;34m\u001b[0m\u001b[0;34m\u001b[0m\u001b[0m\n\u001b[1;32m      5\u001b[0m \u001b[0;32mimport\u001b[0m \u001b[0mhoomd\u001b[0m\u001b[0;34m.\u001b[0m\u001b[0mdlext\u001b[0m\u001b[0;34m\u001b[0m\u001b[0;34m\u001b[0m\u001b[0m\n",
            "\u001b[0;31mModuleNotFoundError\u001b[0m: No module named 'hoomd'",
            "",
            "\u001b[0;31m---------------------------------------------------------------------------\u001b[0;32m\nNOTE: If your import is failing due to a missing package, you can\nmanually install dependencies using either !pip or !apt.\n\nTo view examples of installing some common dependencies, click the\n\"Open Examples\" button below.\n\u001b[0;31m---------------------------------------------------------------------------\u001b[0m\n"
          ],
          "errorDetails": {
            "actions": [
              {
                "action": "open_url",
                "actionText": "Open Examples",
                "url": "/notebooks/snippets/importing_libraries.ipynb"
              }
            ]
          }
        }
      ],
      "source": [
        "import numpy as np\n",
        "import matplotlib.pyplot as plt\n",
        "import hoomd\n",
        "import hoomd.md\n",
        "import hoomd.dlext\n",
        "\n",
        "import pysages\n",
        "from pysages.collective_variables import Component\n",
        "from pysages.methods import HarmonicBias, HistogramLogger"
      ]
    },
    {
      "cell_type": "markdown",
      "source": [
        "The next step is to write a function that generate the simulation context.\n",
        "Inside this function is the HOOMD-blue specific code, that you would normally write to execute a HOOMD-blue simulation. Here it is packaged into a function, such that PySAGES can deploy the simulation context when needed.\n",
        "In this case, we use the GSD file read in the initial, and define the DPD forcefield with parameters.\n",
        "DPD is a special case in HOOMD-blue. The thermostat is part of the pair-potential and not part of the integrator. Hence, we specify NVE integration and all thermostat parameter for NVT in the potential. The function returns the simulation context for PySAGES to work with.\n",
        "\n",
        "The second funtion is a helper function to generate the theoretically expected distribution of a harmonically biased simulation of an ideal gas in NVT. And helps to verify the results of the simulation."
      ],
      "metadata": {
        "id": "YibErIQhC0Lv"
      }
    },
    {
      "cell_type": "code",
      "execution_count": null,
      "metadata": {
        "id": "67488aXwQXba"
      },
      "outputs": [],
      "source": [
        "def generate_context(**kwargs):\n",
        "    hoomd.context.initialize('')\n",
        "    context = hoomd.context.SimulationContext()\n",
        "    with context:\n",
        "        hoomd.init.read_gsd(\"harmonic_start.gsd\")\n",
        "        hoomd.md.integrate.nve(group=hoomd.group.all())\n",
        "        hoomd.md.integrate.mode_standard(dt=0.01)\n",
        "\n",
        "        nl = hoomd.md.nlist.cell()\n",
        "        dpd = hoomd.md.pair.dpd(r_cut=1, nlist=nl, seed=42, kT=1.0)\n",
        "        dpd.pair_coeff.set(\n",
        "            \"A\", \"A\", A=kwargs.get(\"A\", 5.0), gamma=kwargs.get(\"gamma\", 1.0)\n",
        "        )\n",
        "    return context\n",
        "\n",
        "def get_target_dist(center, k, lim, bins):\n",
        "    x = np.linspace(lim[0], lim[1], bins)\n",
        "    p = np.exp(-0.5 * k * (x - center)**2)\n",
        "    # norm numerically\n",
        "    p *= (lim[1] - lim[0]) / np.sum(p)\n",
        "    return p\n"
      ]
    },
    {
      "cell_type": "markdown",
      "source": [
        "The next step is to define the collective variables we are interested in.\n",
        "In this case we are using the `Component` collective variable to describe the position in space. We choose particle `[0]` for this and log in 3 different CVS the Z- `2`, Y- `1`, and X- `0` position of the particle.\n",
        "The center describe to where we are restraining the CVs to, which is also specified for each of the CVs described earlier.\n",
        "\n",
        "Finally, we defineing the spring constant for the harmonic biasing potential and the `HarmonicBias` method itself."
      ],
      "metadata": {
        "id": "BgQ88M0sIfbp"
      }
    },
    {
      "cell_type": "code",
      "execution_count": null,
      "metadata": {
        "id": "r911REinQdLF"
      },
      "outputs": [],
      "source": [
        "cvs = [Component([0], 2)]\n",
        "cvs += [Component([0], 1)]\n",
        "cvs += [Component([0], 0)]\n",
        "\n",
        "center_cv = [0.0]\n",
        "center_cv += [1.0, -0.3]\n",
        "\n",
        "k = 15\n",
        "method = HarmonicBias(cvs, k, center_cv)\n"
      ]
    },
    {
      "cell_type": "markdown",
      "source": [
        "Next we define the `HistogramLogger` callback. The callback interacts with the simulation every timestep after the biasing. In this case we use it to log the state of the collective variables every `100` time steps.\n",
        "\n",
        "And we can finally run the simulations. This happens through the PySAGES method run, and is transparent to the user which backend is running.\n",
        "Here, the run is just a simple simulation for the number of steps specified with the biasing potential. Other advanced sampling methods can have more advanced run schemes."
      ],
      "metadata": {
        "id": "bGIDE56RLCcP"
      }
    },
    {
      "cell_type": "code",
      "execution_count": null,
      "metadata": {
        "id": "aOXCppWkQnJI"
      },
      "outputs": [],
      "source": [
        "callback = HistogramLogger(100)\n",
        "method.run(generate_context, int(1e4), callback, {\"A\": 7.0}, profile=True)"
      ]
    },
    {
      "cell_type": "markdown",
      "source": [
        "After the simulation run, we collect the results for comparison with the analytic prediction for an ideal gas.\n",
        "First, we generate the analytic predictions for each of the CVs in a list `target_hist`.\n",
        "\n",
        "After, we are using the collected results from the callback to build the histograms from the simulations. And store the results in `hist_list`."
      ],
      "metadata": {
        "id": "_vigR7XaMUD3"
      }
    },
    {
      "cell_type": "code",
      "execution_count": null,
      "metadata": {
        "id": "jBiATDSaSqUw"
      },
      "outputs": [],
      "source": [
        "Lmax = 5.0\n",
        "bins = 25\n",
        "target_hist = []\n",
        "for i in range(len(center_cv)):\n",
        "    target_hist.append(\n",
        "        get_target_dist(center_cv[i], k, (-Lmax / 2, Lmax / 2), bins)\n",
        "    )\n",
        "lims = [(-Lmax / 2, Lmax / 2) for i in range(3)]\n",
        "hist, edges = callback.get_histograms(bins=bins, range=lims)\n",
        "hist_list = [\n",
        "    np.sum(hist, axis=(1, 2)) / (Lmax ** 2),\n",
        "    np.sum(hist, axis=(0, 2)) / (Lmax ** 2),\n",
        "    np.sum(hist, axis=(0, 1)) / (Lmax ** 2),\n",
        "]\n",
        "lim = (-Lmax / 2, Lmax / 2)"
      ]
    },
    {
      "cell_type": "markdown",
      "source": [
        "Finally, we want to evalutate how the simulations turned out.\n",
        "We use matplotlib to vizualize the expected (dashed) and actual results of the simulations (solid)."
      ],
      "metadata": {
        "id": "2xwriftjNKgz"
      }
    },
    {
      "cell_type": "code",
      "execution_count": null,
      "metadata": {
        "id": "ZCkylgdvS3To"
      },
      "outputs": [],
      "source": [
        "fig, ax = plt.subplots()\n",
        "\n",
        "ax.set_xlabel(r\"CV $\\xi_i$\")\n",
        "ax.set_ylabel(r\"$p(\\xi_i)$\")\n",
        "\n",
        "x = np.linspace(lim[0], lim[1], hist_list[0].shape[0])\n",
        "\n",
        "for i in range(len(hist_list)):\n",
        "    (line,) = ax.plot(x, hist_list[i], label=\"i= {0}\".format(i))\n",
        "    ax.plot(x, target_hist[i], \"--\", color=line.get_color())\n",
        "\n",
        "ax.legend(loc=\"best\")\n"
      ]
    },
    {
      "cell_type": "markdown",
      "source": [
        "We can see, that the particle positions are indeed centered around the constraints we set up earlier. Also we see the shape of the histograms is very similar to the expect analytical prediction. We expect this, since a liquid of soft particles is not that much different to an ideal gas."
      ],
      "metadata": {
        "id": "IXryBllMNiKM"
      }
    }
  ],
  "metadata": {
    "colab": {
      "collapsed_sections": [],
      "name": "Harmonic-Bias-PySAGES-HOOMD.ipynb",
      "toc_visible": true,
      "provenance": [],
      "include_colab_link": true
    },
    "kernelspec": {
      "display_name": "Python 3",
      "name": "python3"
    },
    "language_info": {
      "name": "python"
    },
    "accelerator": "GPU"
  },
  "nbformat": 4,
  "nbformat_minor": 0
}